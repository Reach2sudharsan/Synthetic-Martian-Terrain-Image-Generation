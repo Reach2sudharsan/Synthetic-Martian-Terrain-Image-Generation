{
 "cells": [
  {
   "cell_type": "code",
   "execution_count": 2,
   "metadata": {},
   "outputs": [
    {
     "name": "stdout",
     "output_type": "stream",
     "text": [
      "E: Could not open lock file /var/lib/dpkg/lock-frontend - open (13: Permission denied)\n",
      "E: Unable to acquire the dpkg frontend lock (/var/lib/dpkg/lock-frontend), are you root?\n",
      "Defaulting to user installation because normal site-packages is not writeable\n",
      "Collecting rasterio\n",
      "  Downloading rasterio-1.4.3.tar.gz (442 kB)\n",
      "\u001b[2K     \u001b[90m━━━━━━━━━━━━━━━━━━━━━━━━━━━━━━━━━━━━━━━\u001b[0m \u001b[32m443.0/443.0 KB\u001b[0m \u001b[31m9.4 MB/s\u001b[0m eta \u001b[36m0:00:00\u001b[0ma \u001b[36m0:00:01\u001b[0m\n",
      "  Installing build dependencies ... done\n",
      "\u001b[?25h  Getting requirements to build wheel ... \u001b[?25error\n",
      "  \u001b[1;31merror\u001b[0m: \u001b[1msubprocess-exited-with-error\u001b[0m\n",
      "  \n",
      "  \u001b[31m×\u001b[0m \u001b[32mGetting requirements to build wheel\u001b[0m did not run successfully.\n",
      "  \u001b[31m│\u001b[0m exit code: \u001b[1;36m1\u001b[0m\n",
      "  \u001b[31m╰─>\u001b[0m \u001b[31m[4 lines of output]\u001b[0m\n",
      "  \u001b[31m   \u001b[0m INFO: Disabling color, you really want to install colorlog.\n",
      "  \u001b[31m   \u001b[0m INFO:pythran:Disabling color, you really want to install colorlog.\n",
      "  \u001b[31m   \u001b[0m WARNING:root:Failed to get options via gdal-config: [Errno 2] No such file or directory: 'gdal-config'\n",
      "  \u001b[31m   \u001b[0m ERROR: A GDAL API version must be specified. Provide a path to gdal-config using a GDAL_CONFIG environment variable or use a GDAL_VERSION environment variable.\n",
      "  \u001b[31m   \u001b[0m \u001b[31m[end of output]\u001b[0m\n",
      "  \n",
      "  \u001b[1;35mnote\u001b[0m: This error originates from a subprocess, and is likely not a problem with pip.\n",
      "\u001b[1;31merror\u001b[0m: \u001b[1msubprocess-exited-with-error\u001b[0m\n",
      "\n",
      "\u001b[31m×\u001b[0m \u001b[32mGetting requirements to build wheel\u001b[0m did not run successfully.\n",
      "\u001b[31m│\u001b[0m exit code: \u001b[1;36m1\u001b[0m\n",
      "\u001b[31m╰─>\u001b[0m See above for output.\n",
      "\n",
      "\u001b[1;35mnote\u001b[0m: This error originates from a subprocess, and is likely not a problem with pip.\n",
      "\u001b[?25h"
     ]
    }
   ],
   "source": [
    "!apt-get install -y gdal-bin python3-gdal\n",
    "!pip install rasterio"
   ]
  },
  {
   "cell_type": "code",
   "execution_count": null,
   "metadata": {},
   "outputs": [
    {
     "ename": "",
     "evalue": "",
     "output_type": "error",
     "traceback": [
      "\u001b[1;31mRunning cells with 'base (Python 3.12.9)' requires the ipykernel package.\n",
      "\u001b[1;31mRun the following command to install 'ipykernel' into the Python environment. \n",
      "\u001b[1;31mCommand: 'conda install -n base ipykernel --update-deps --force-reinstall'"
     ]
    }
   ],
   "source": [
    "import cv2\n",
    "import matplotlib.pyplot as plt\n",
    "import rasterio\n",
    "from rasterio.windows import Window\n",
    "import numpy as np\n",
    "import matplotlib.pyplot as plt\n",
    "from tqdm import tqdm\n",
    "import os\n",
    "import random"
   ]
  },
  {
   "cell_type": "code",
   "execution_count": 21,
   "metadata": {},
   "outputs": [],
   "source": [
    "# Define the remote input file and output base name\n",
    "input_file = \"JEZ_MADNet_DTM_50cm_v8.tif\""
   ]
  },
  {
   "cell_type": "code",
   "execution_count": 22,
   "metadata": {},
   "outputs": [
    {
     "name": "stdout",
     "output_type": "stream",
     "text": [
      "Width: 41935 pixels, Height: 42847 pixels\n",
      "CRS: ESRI:103885\n",
      "Transform: | 0.50, 0.00, 4577728.50|\n",
      "| 0.00,-0.50, 1106585.50|\n",
      "| 0.00, 0.00, 1.00|\n"
     ]
    }
   ],
   "source": [
    "file_path = input_file\n",
    "\n",
    "with rasterio.open(file_path) as src:\n",
    "    width, height = src.width, src.height\n",
    "    crs = src.crs  # Coordinate reference system\n",
    "    transform = src.transform  # Geospatial transform\n",
    "    print(f\"Width: {width} pixels, Height: {height} pixels\")\n",
    "    print(f\"CRS: {crs}\")\n",
    "    print(f\"Transform: {transform}\")"
   ]
  },
  {
   "cell_type": "code",
   "execution_count": 23,
   "metadata": {},
   "outputs": [
    {
     "name": "stderr",
     "output_type": "stream",
     "text": [
      "Extracting Random DEM Crops:   3%|▎         | 1/30 [00:00<00:10,  2.86crop/s]"
     ]
    },
    {
     "name": "stdout",
     "output_type": "stream",
     "text": [
      "Saved cropped DEM as PNG: DEM_Images/mars_dem_random_1.png (Offset: x=25669, y=24237)\n"
     ]
    },
    {
     "name": "stderr",
     "output_type": "stream",
     "text": [
      "Extracting Random DEM Crops:   7%|▋         | 2/30 [00:00<00:09,  2.86crop/s]"
     ]
    },
    {
     "name": "stdout",
     "output_type": "stream",
     "text": [
      "Saved cropped DEM as PNG: DEM_Images/mars_dem_random_2.png (Offset: x=23721, y=16837)\n"
     ]
    },
    {
     "name": "stderr",
     "output_type": "stream",
     "text": [
      "Extracting Random DEM Crops:  10%|█         | 3/30 [00:01<00:09,  2.92crop/s]"
     ]
    },
    {
     "name": "stdout",
     "output_type": "stream",
     "text": [
      "Saved cropped DEM as PNG: DEM_Images/mars_dem_random_3.png (Offset: x=27453, y=18564)\n"
     ]
    },
    {
     "name": "stderr",
     "output_type": "stream",
     "text": [
      "Extracting Random DEM Crops:  13%|█▎        | 4/30 [00:01<00:09,  2.68crop/s]"
     ]
    },
    {
     "name": "stdout",
     "output_type": "stream",
     "text": [
      "Saved cropped DEM as PNG: DEM_Images/mars_dem_random_4.png (Offset: x=11559, y=23065)\n"
     ]
    },
    {
     "name": "stderr",
     "output_type": "stream",
     "text": [
      "Extracting Random DEM Crops:  17%|█▋        | 5/30 [00:01<00:08,  2.79crop/s]"
     ]
    },
    {
     "name": "stdout",
     "output_type": "stream",
     "text": [
      "Saved cropped DEM as PNG: DEM_Images/mars_dem_random_5.png (Offset: x=11723, y=16406)\n"
     ]
    },
    {
     "name": "stderr",
     "output_type": "stream",
     "text": [
      "Extracting Random DEM Crops:  20%|██        | 6/30 [00:02<00:08,  2.99crop/s]"
     ]
    },
    {
     "name": "stdout",
     "output_type": "stream",
     "text": [
      "Saved cropped DEM as PNG: DEM_Images/mars_dem_random_6.png (Offset: x=11782, y=18037)\n"
     ]
    },
    {
     "name": "stderr",
     "output_type": "stream",
     "text": [
      "Extracting Random DEM Crops:  23%|██▎       | 7/30 [00:02<00:07,  2.96crop/s]"
     ]
    },
    {
     "name": "stdout",
     "output_type": "stream",
     "text": [
      "Saved cropped DEM as PNG: DEM_Images/mars_dem_random_7.png (Offset: x=20061, y=22165)\n"
     ]
    },
    {
     "name": "stderr",
     "output_type": "stream",
     "text": [
      "Extracting Random DEM Crops:  27%|██▋       | 8/30 [00:02<00:07,  3.03crop/s]"
     ]
    },
    {
     "name": "stdout",
     "output_type": "stream",
     "text": [
      "Saved cropped DEM as PNG: DEM_Images/mars_dem_random_8.png (Offset: x=22449, y=12757)\n"
     ]
    },
    {
     "name": "stderr",
     "output_type": "stream",
     "text": [
      "Extracting Random DEM Crops:  30%|███       | 9/30 [00:03<00:07,  2.90crop/s]"
     ]
    },
    {
     "name": "stdout",
     "output_type": "stream",
     "text": [
      "Saved cropped DEM as PNG: DEM_Images/mars_dem_random_9.png (Offset: x=21562, y=27740)\n"
     ]
    },
    {
     "name": "stderr",
     "output_type": "stream",
     "text": [
      "Extracting Random DEM Crops:  33%|███▎      | 10/30 [00:03<00:07,  2.74crop/s]"
     ]
    },
    {
     "name": "stdout",
     "output_type": "stream",
     "text": [
      "Saved cropped DEM as PNG: DEM_Images/mars_dem_random_10.png (Offset: x=13232, y=20967)\n"
     ]
    },
    {
     "name": "stderr",
     "output_type": "stream",
     "text": [
      "Extracting Random DEM Crops:  37%|███▋      | 11/30 [00:03<00:06,  3.05crop/s]"
     ]
    },
    {
     "name": "stdout",
     "output_type": "stream",
     "text": [
      "Saved cropped DEM as PNG: DEM_Images/mars_dem_random_11.png (Offset: x=21448, y=25961)\n"
     ]
    },
    {
     "name": "stderr",
     "output_type": "stream",
     "text": [
      "Extracting Random DEM Crops:  40%|████      | 12/30 [00:04<00:05,  3.14crop/s]"
     ]
    },
    {
     "name": "stdout",
     "output_type": "stream",
     "text": [
      "Saved cropped DEM as PNG: DEM_Images/mars_dem_random_12.png (Offset: x=28352, y=27588)\n"
     ]
    },
    {
     "name": "stderr",
     "output_type": "stream",
     "text": [
      "Extracting Random DEM Crops:  43%|████▎     | 13/30 [00:04<00:05,  3.17crop/s]"
     ]
    },
    {
     "name": "stdout",
     "output_type": "stream",
     "text": [
      "Saved cropped DEM as PNG: DEM_Images/mars_dem_random_13.png (Offset: x=16226, y=23692)\n"
     ]
    },
    {
     "name": "stderr",
     "output_type": "stream",
     "text": [
      "Extracting Random DEM Crops:  47%|████▋     | 14/30 [00:04<00:04,  3.49crop/s]"
     ]
    },
    {
     "name": "stdout",
     "output_type": "stream",
     "text": [
      "Saved cropped DEM as PNG: DEM_Images/mars_dem_random_14.png (Offset: x=12021, y=15495)\n"
     ]
    },
    {
     "name": "stderr",
     "output_type": "stream",
     "text": [
      "Extracting Random DEM Crops:  50%|█████     | 15/30 [00:04<00:03,  3.81crop/s]"
     ]
    },
    {
     "name": "stdout",
     "output_type": "stream",
     "text": [
      "Saved cropped DEM as PNG: DEM_Images/mars_dem_random_15.png (Offset: x=22591, y=15892)\n"
     ]
    },
    {
     "name": "stderr",
     "output_type": "stream",
     "text": [
      "Extracting Random DEM Crops:  53%|█████▎    | 16/30 [00:05<00:03,  3.62crop/s]"
     ]
    },
    {
     "name": "stdout",
     "output_type": "stream",
     "text": [
      "Saved cropped DEM as PNG: DEM_Images/mars_dem_random_16.png (Offset: x=12956, y=13229)\n"
     ]
    },
    {
     "name": "stderr",
     "output_type": "stream",
     "text": [
      "Extracting Random DEM Crops:  57%|█████▋    | 17/30 [00:05<00:03,  3.52crop/s]"
     ]
    },
    {
     "name": "stdout",
     "output_type": "stream",
     "text": [
      "Saved cropped DEM as PNG: DEM_Images/mars_dem_random_17.png (Offset: x=14732, y=18288)\n"
     ]
    },
    {
     "name": "stderr",
     "output_type": "stream",
     "text": [
      "Extracting Random DEM Crops:  63%|██████▎   | 19/30 [00:05<00:03,  3.58crop/s]"
     ]
    },
    {
     "name": "stdout",
     "output_type": "stream",
     "text": [
      "Saved cropped DEM as PNG: DEM_Images/mars_dem_random_18.png (Offset: x=13013, y=26198)\n",
      "Saved cropped DEM as PNG: DEM_Images/mars_dem_random_19.png (Offset: x=27974, y=26406)\n"
     ]
    },
    {
     "name": "stderr",
     "output_type": "stream",
     "text": [
      "Extracting Random DEM Crops:  67%|██████▋   | 20/30 [00:06<00:02,  4.14crop/s]"
     ]
    },
    {
     "name": "stdout",
     "output_type": "stream",
     "text": [
      "Saved cropped DEM as PNG: DEM_Images/mars_dem_random_20.png (Offset: x=28355, y=28331)\n"
     ]
    },
    {
     "name": "stderr",
     "output_type": "stream",
     "text": [
      "Extracting Random DEM Crops:  73%|███████▎  | 22/30 [00:06<00:01,  4.29crop/s]"
     ]
    },
    {
     "name": "stdout",
     "output_type": "stream",
     "text": [
      "Saved cropped DEM as PNG: DEM_Images/mars_dem_random_21.png (Offset: x=25272, y=26535)\n",
      "Saved cropped DEM as PNG: DEM_Images/mars_dem_random_22.png (Offset: x=13728, y=13823)\n"
     ]
    },
    {
     "name": "stderr",
     "output_type": "stream",
     "text": [
      "Extracting Random DEM Crops:  80%|████████  | 24/30 [00:06<00:01,  5.48crop/s]"
     ]
    },
    {
     "name": "stdout",
     "output_type": "stream",
     "text": [
      "Saved cropped DEM as PNG: DEM_Images/mars_dem_random_23.png (Offset: x=11751, y=14540)\n",
      "Saved cropped DEM as PNG: DEM_Images/mars_dem_random_24.png (Offset: x=12131, y=13390)\n"
     ]
    },
    {
     "name": "stderr",
     "output_type": "stream",
     "text": [
      "Extracting Random DEM Crops:  83%|████████▎ | 25/30 [00:07<00:00,  5.80crop/s]"
     ]
    },
    {
     "name": "stdout",
     "output_type": "stream",
     "text": [
      "Saved cropped DEM as PNG: DEM_Images/mars_dem_random_25.png (Offset: x=14718, y=17562)\n"
     ]
    },
    {
     "name": "stderr",
     "output_type": "stream",
     "text": [
      "Extracting Random DEM Crops:  87%|████████▋ | 26/30 [00:07<00:00,  5.05crop/s]"
     ]
    },
    {
     "name": "stdout",
     "output_type": "stream",
     "text": [
      "Saved cropped DEM as PNG: DEM_Images/mars_dem_random_26.png (Offset: x=27671, y=13831)\n"
     ]
    },
    {
     "name": "stderr",
     "output_type": "stream",
     "text": [
      "Extracting Random DEM Crops:  93%|█████████▎| 28/30 [00:07<00:00,  4.95crop/s]"
     ]
    },
    {
     "name": "stdout",
     "output_type": "stream",
     "text": [
      "Saved cropped DEM as PNG: DEM_Images/mars_dem_random_27.png (Offset: x=16625, y=19000)\n",
      "Saved cropped DEM as PNG: DEM_Images/mars_dem_random_28.png (Offset: x=17208, y=19995)\n"
     ]
    },
    {
     "name": "stderr",
     "output_type": "stream",
     "text": [
      "Extracting Random DEM Crops:  97%|█████████▋| 29/30 [00:07<00:00,  4.74crop/s]"
     ]
    },
    {
     "name": "stdout",
     "output_type": "stream",
     "text": [
      "Saved cropped DEM as PNG: DEM_Images/mars_dem_random_29.png (Offset: x=28182, y=12088)\n"
     ]
    },
    {
     "name": "stderr",
     "output_type": "stream",
     "text": [
      "Extracting Random DEM Crops: 100%|██████████| 30/30 [00:08<00:00,  3.65crop/s]"
     ]
    },
    {
     "name": "stdout",
     "output_type": "stream",
     "text": [
      "Saved cropped DEM as PNG: DEM_Images/mars_dem_random_30.png (Offset: x=23817, y=28833)\n",
      "✅ All 30 DEM crops saved in 'DEM_Images' successfully!\n"
     ]
    },
    {
     "name": "stderr",
     "output_type": "stream",
     "text": [
      "\n"
     ]
    }
   ],
   "source": [
    "# Define output folder\n",
    "output_folder = \"DEM_Images\"\n",
    "os.makedirs(output_folder, exist_ok=True)  # Create folder if it doesn't exist\n",
    "\n",
    "# Crop size\n",
    "crop_width, crop_height = 2000, 2000  \n",
    "\n",
    "# Define middle 20000x20000 region\n",
    "mid_x_start = (41935 - 20000) // 2  # Start x of middle square\n",
    "mid_y_start = (42847 - 20000) // 2  # Start y of middle square\n",
    "mid_x_end = mid_x_start + 20000 - crop_width  # Max x within middle square\n",
    "mid_y_end = mid_y_start + 20000 - crop_height  # Max y within middle square\n",
    "\n",
    "# Generate 30 random (x, y) positions within the middle region\n",
    "random_positions = [(random.randint(mid_x_start, mid_x_end), random.randint(mid_y_start, mid_y_end)) for _ in range(30)]\n",
    "\n",
    "# Open the DEM file\n",
    "with rasterio.open(input_file) as src:\n",
    "    for i, (x_offset, y_offset) in enumerate(tqdm(random_positions, desc=\"Extracting Random DEM Crops\", unit=\"crop\")):\n",
    "        window = Window(x_offset, y_offset, crop_width, crop_height)\n",
    "\n",
    "        # Read the cropped DEM data\n",
    "        dem_data = src.read(1, window=window)\n",
    "\n",
    "        # Normalize DEM values for 8-bit PNG\n",
    "        dem_min, dem_max = np.min(dem_data), np.max(dem_data)\n",
    "        dem_normalized = ((dem_data - dem_min) / (dem_max - dem_min) * 255).astype(np.uint8)\n",
    "\n",
    "        # Save as PNG in the \"DEM_Images\" folder\n",
    "        output_file = os.path.join(output_folder, f\"mars_dem_random_{i+1}.png\")\n",
    "        cv2.imwrite(output_file, dem_normalized)\n",
    "\n",
    "        tqdm.write(f\"Saved cropped DEM as PNG: {output_file} (Offset: x={x_offset}, y={y_offset})\")\n",
    "\n",
    "print(f\"✅ All 30 DEM crops saved in '{output_folder}' successfully!\")"
   ]
  }
 ],
 "metadata": {
  "kernelspec": {
   "display_name": "base",
   "language": "python",
   "name": "python3"
  },
  "language_info": {
   "codemirror_mode": {
    "name": "ipython",
    "version": 3
   },
   "file_extension": ".py",
   "mimetype": "text/x-python",
   "name": "python",
   "nbconvert_exporter": "python",
   "pygments_lexer": "ipython3",
   "version": "3.12.9"
  }
 },
 "nbformat": 4,
 "nbformat_minor": 4
}
