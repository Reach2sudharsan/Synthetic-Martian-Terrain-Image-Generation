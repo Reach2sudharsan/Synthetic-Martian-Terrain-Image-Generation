{
 "cells": [
  {
   "cell_type": "code",
   "execution_count": 1,
   "id": "2576e3e6",
   "metadata": {},
   "outputs": [],
   "source": [
    "import os"
   ]
  },
  {
   "cell_type": "code",
   "execution_count": 10,
   "id": "a409c1b4",
   "metadata": {},
   "outputs": [
    {
     "data": {
      "text/plain": [
       "1111"
      ]
     },
     "execution_count": 10,
     "metadata": {},
     "output_type": "execute_result"
    }
   ],
   "source": [
    "ctrl_net_path = \"../datasets/RealCraters/train/images\"\n",
    "ctrl_net_paths = os.listdir(ctrl_net_path)\n",
    "len(ctrl_net_paths)"
   ]
  },
  {
   "cell_type": "code",
   "execution_count": 11,
   "id": "5950e9ed",
   "metadata": {},
   "outputs": [
    {
     "data": {
      "text/plain": [
       "49"
      ]
     },
     "execution_count": 11,
     "metadata": {},
     "output_type": "execute_result"
    }
   ],
   "source": [
    "ctrl_net_path = \"../datasets/RealCraters/valid/images\"\n",
    "ctrl_net_paths = os.listdir(ctrl_net_path)\n",
    "len(ctrl_net_paths)"
   ]
  },
  {
   "cell_type": "code",
   "execution_count": 12,
   "id": "890252cb",
   "metadata": {},
   "outputs": [
    {
     "data": {
      "text/plain": [
       "38"
      ]
     },
     "execution_count": 12,
     "metadata": {},
     "output_type": "execute_result"
    }
   ],
   "source": [
    "ctrl_net_path = \"../datasets/RealCraters/test/images\"\n",
    "ctrl_net_paths = os.listdir(ctrl_net_path)\n",
    "len(ctrl_net_paths)"
   ]
  },
  {
   "cell_type": "code",
   "execution_count": 13,
   "id": "fa1003ee",
   "metadata": {},
   "outputs": [
    {
     "data": {
      "text/plain": [
       "(92.73789649415693, 4.090150250417363, 3.1719532554257093)"
      ]
     },
     "execution_count": 13,
     "metadata": {},
     "output_type": "execute_result"
    }
   ],
   "source": [
    "T = 1111+49+38\n",
    "t = 1111/T*100\n",
    "v = 49/T*100\n",
    "te = 38/T*100\n",
    "t, v, te"
   ]
  },
  {
   "cell_type": "code",
   "execution_count": 9,
   "id": "da49c718",
   "metadata": {},
   "outputs": [
    {
     "data": {
      "text/plain": [
       "494"
      ]
     },
     "execution_count": 9,
     "metadata": {},
     "output_type": "execute_result"
    }
   ],
   "source": [
    "ctrl_net_path = \"../datasets/StblDiffCraters/train/images\"\n",
    "ctrl_net_paths = os.listdir(ctrl_net_path)\n",
    "len(ctrl_net_paths)"
   ]
  },
  {
   "cell_type": "code",
   "execution_count": null,
   "id": "7aa10d63",
   "metadata": {},
   "outputs": [],
   "source": [
    "ctrl_net_path = \"../datasets/CtrlNetCraters/train/images\"\n",
    "ctrl_net_paths = os.listdir(ctrl_net_path)\n",
    "len(ctrl_net_paths)"
   ]
  },
  {
   "cell_type": "code",
   "execution_count": null,
   "id": "0b7a8a84",
   "metadata": {},
   "outputs": [],
   "source": []
  }
 ],
 "metadata": {
  "kernelspec": {
   "display_name": "eval_videos",
   "language": "python",
   "name": "python3"
  },
  "language_info": {
   "codemirror_mode": {
    "name": "ipython",
    "version": 3
   },
   "file_extension": ".py",
   "mimetype": "text/x-python",
   "name": "python",
   "nbconvert_exporter": "python",
   "pygments_lexer": "ipython3",
   "version": "3.11.13"
  }
 },
 "nbformat": 4,
 "nbformat_minor": 5
}
