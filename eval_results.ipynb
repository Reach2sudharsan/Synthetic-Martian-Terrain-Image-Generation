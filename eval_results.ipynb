{
 "cells": [
  {
   "cell_type": "code",
   "execution_count": 1,
   "id": "9aff4f77",
   "metadata": {},
   "outputs": [],
   "source": [
    "import numpy as np \n",
    "import pandas as pd"
   ]
  },
  {
   "cell_type": "code",
   "execution_count": 4,
   "id": "a5c09bc9",
   "metadata": {},
   "outputs": [],
   "source": [
    "m1 = pd.read_csv(\"/home/ubuntu/dem-controlnet/Synthetic-Martian-Terrain-Image-Generation/crater_datasets/yolov5/runs/train/exp31/results.csv\")\n",
    "m2 = pd.read_csv(\"/home/ubuntu/dem-controlnet/Synthetic-Martian-Terrain-Image-Generation/crater_datasets/yolov5/runs/train/exp32/results.csv\")\n",
    "m3 = pd.read_csv(\"/home/ubuntu/dem-controlnet/Synthetic-Martian-Terrain-Image-Generation/crater_datasets/yolov5/runs/train/exp33/results.csv\")\n",
    "m4 = pd.read_csv(\"/home/ubuntu/dem-controlnet/Synthetic-Martian-Terrain-Image-Generation/crater_datasets/yolov5/runs/train/exp34/results.csv\")"
   ]
  },
  {
   "cell_type": "code",
   "execution_count": 8,
   "id": "582a1b62",
   "metadata": {},
   "outputs": [
    {
     "data": {
      "text/plain": [
       "Index(['               epoch', '      train/box_loss', '      train/obj_loss',\n",
       "       '      train/cls_loss', '   metrics/precision', '      metrics/recall',\n",
       "       '     metrics/mAP_0.5', 'metrics/mAP_0.5:0.95', '        val/box_loss',\n",
       "       '        val/obj_loss', '        val/cls_loss', '               x/lr0',\n",
       "       '               x/lr1', '               x/lr2'],\n",
       "      dtype='object')"
      ]
     },
     "execution_count": 8,
     "metadata": {},
     "output_type": "execute_result"
    }
   ],
   "source": [
    "m1.columns"
   ]
  },
  {
   "cell_type": "code",
   "execution_count": 9,
   "id": "85349708",
   "metadata": {},
   "outputs": [
    {
     "data": {
      "text/plain": [
       "0     0.37726\n",
       "1     0.31283\n",
       "2     0.38224\n",
       "3     0.30954\n",
       "4     0.34460\n",
       "       ...   \n",
       "95    0.73679\n",
       "96    0.72505\n",
       "97    0.73534\n",
       "98    0.73462\n",
       "99    0.73362\n",
       "Name:      metrics/mAP_0.5, Length: 100, dtype: float64"
      ]
     },
     "execution_count": 9,
     "metadata": {},
     "output_type": "execute_result"
    }
   ],
   "source": [
    "m1[\"     metrics/mAP_0.5\"]"
   ]
  },
  {
   "cell_type": "code",
   "execution_count": null,
   "id": "acf6442a",
   "metadata": {},
   "outputs": [],
   "source": []
  },
  {
   "cell_type": "code",
   "execution_count": null,
   "id": "d8d60b28",
   "metadata": {},
   "outputs": [],
   "source": []
  },
  {
   "cell_type": "code",
   "execution_count": null,
   "id": "4966dbb2",
   "metadata": {},
   "outputs": [],
   "source": []
  },
  {
   "cell_type": "code",
   "execution_count": null,
   "id": "939af292",
   "metadata": {},
   "outputs": [],
   "source": []
  },
  {
   "cell_type": "code",
   "execution_count": null,
   "id": "e06450f8",
   "metadata": {},
   "outputs": [],
   "source": []
  },
  {
   "cell_type": "code",
   "execution_count": null,
   "id": "2e692592",
   "metadata": {},
   "outputs": [],
   "source": []
  }
 ],
 "metadata": {
  "kernelspec": {
   "display_name": "Python 3",
   "language": "python",
   "name": "python3"
  },
  "language_info": {
   "codemirror_mode": {
    "name": "ipython",
    "version": 3
   },
   "file_extension": ".py",
   "mimetype": "text/x-python",
   "name": "python",
   "nbconvert_exporter": "python",
   "pygments_lexer": "ipython3",
   "version": "3.12.9"
  }
 },
 "nbformat": 4,
 "nbformat_minor": 5
}
