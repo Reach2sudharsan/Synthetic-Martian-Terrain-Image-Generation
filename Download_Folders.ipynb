{
 "cells": [
  {
   "cell_type": "code",
   "execution_count": 1,
   "id": "127bd811-9044-47fc-9965-94cc8460e756",
   "metadata": {},
   "outputs": [],
   "source": [
    "import shutil"
   ]
  },
  {
   "cell_type": "code",
   "execution_count": 8,
   "id": "8b0faabe-417a-4639-8f98-9beac3d042e4",
   "metadata": {},
   "outputs": [],
   "source": [
    "folder_name = \"../stable_diffusion_images\"\n",
    "# shutil.make_archive(folder_name, 'zip', folder_name)"
   ]
  },
  {
   "cell_type": "code",
   "execution_count": 9,
   "id": "cbb15ee3-bc50-418b-95db-5a6b23d11802",
   "metadata": {},
   "outputs": [
    {
     "name": "stdout",
     "output_type": "stream",
     "text": [
      "\tzip warning: name not matched: folder_name\n",
      "\n",
      "zip error: Nothing to do! (try: zip -r folder_name.zip . -i folder_name)\n"
     ]
    }
   ],
   "source": [
    "!zip -r folder_name.zip folder_name"
   ]
  },
  {
   "cell_type": "code",
   "execution_count": null,
   "id": "10657dc0-1256-402e-b34d-ef6fe75e4c95",
   "metadata": {},
   "outputs": [],
   "source": []
  }
 ],
 "metadata": {
  "kernelspec": {
   "display_name": "Python 3 (ipykernel)",
   "language": "python",
   "name": "python3"
  },
  "language_info": {
   "codemirror_mode": {
    "name": "ipython",
    "version": 3
   },
   "file_extension": ".py",
   "mimetype": "text/x-python",
   "name": "python",
   "nbconvert_exporter": "python",
   "pygments_lexer": "ipython3",
   "version": "3.10.12"
  }
 },
 "nbformat": 4,
 "nbformat_minor": 5
}
